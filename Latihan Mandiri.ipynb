{
 "cells": [
  {
   "cell_type": "code",
   "execution_count": 1,
   "metadata": {},
   "outputs": [
    {
     "name": "stdout",
     "output_type": "stream",
     "text": [
      "23 adalah bilangan prima.\n"
     ]
    }
   ],
   "source": [
    "def prima(n):\n",
    "    if n <= 1:\n",
    "        return False\n",
    "    elif n <= 3:\n",
    "        return True\n",
    "    elif n % 2 == 0 or n % 3 == 0:\n",
    "        return False\n",
    "    else:\n",
    "        i = 5\n",
    "        while i * i <= n:\n",
    "            if n % i == 0 or n % (i + 2) == 0:\n",
    "                return False\n",
    "            i += 6\n",
    "        return True\n",
    "\n",
    "bilangan = int(input(\"Masukkan bilangan: \"))\n",
    "if prima(bilangan):\n",
    "    print(f\"{bilangan} adalah bilangan prima.\")\n",
    "else:\n",
    "    print(f\"{bilangan} bukan bilangan prima.\")"
   ]
  },
  {
   "cell_type": "code",
   "execution_count": 2,
   "metadata": {},
   "outputs": [
    {
     "name": "stdout",
     "output_type": "stream",
     "text": [
      "level adalah palindrom.\n"
     ]
    }
   ],
   "source": [
    "def palindrom(s):\n",
    "    if len(s) <= 1:\n",
    "        return True\n",
    "    else:\n",
    "        if s[0] == s[-1]:\n",
    "            return palindrom(s[1:-1])\n",
    "        else:\n",
    "            return False\n",
    "\n",
    "kalimat = input(\"Masukkan kalimat: \")\n",
    "if palindrom(kalimat):\n",
    "    print(f\"{kalimat} adalah palindrom.\")\n",
    "else:\n",
    "    print(f\"{kalimat} bukan palindrom.\")"
   ]
  },
  {
   "cell_type": "code",
   "execution_count": 4,
   "metadata": {},
   "outputs": [
    {
     "name": "stdout",
     "output_type": "stream",
     "text": [
      "Jumlah deret ganjil dari 1 + 3 + 7 + ... + 55 adalah 784\n"
     ]
    }
   ],
   "source": [
    "def deret_ganjil(n):\n",
    "    if n <= 0:\n",
    "        return 0\n",
    "    else:\n",
    "        return n + deret_ganjil(n - 2)\n",
    "\n",
    "n = int(input(\"Masukkan nilai n: \"))\n",
    "print(f\"Jumlah deret ganjil dari 1 + 3 + 7 + ... + {n} adalah {deret_ganjil(n)}\")"
   ]
  },
  {
   "cell_type": "code",
   "execution_count": 5,
   "metadata": {},
   "outputs": [
    {
     "name": "stdout",
     "output_type": "stream",
     "text": [
      "Jumlah digit dari 204 adalah 6\n"
     ]
    }
   ],
   "source": [
    "def jumlah_digit(n):\n",
    "    if n < 10:\n",
    "        return n\n",
    "    else:\n",
    "        return n % 10 + jumlah_digit(n // 10)\n",
    "\n",
    "bilangan = int(input(\"Masukkan bilangan: \"))\n",
    "print(f\"Jumlah digit dari {bilangan} adalah {jumlah_digit(bilangan)}\")"
   ]
  },
  {
   "cell_type": "code",
   "execution_count": 10,
   "metadata": {},
   "outputs": [
    {
     "name": "stdout",
     "output_type": "stream",
     "text": [
      "Kombinasi 5 dengan 4 adalah 5\n"
     ]
    }
   ],
   "source": [
    "def kombinasi(n, r):\n",
    "    if r > n:\n",
    "        return 0\n",
    "    elif r == 0 or r == n:\n",
    "        return 1\n",
    "    else:\n",
    "        return kombinasi(n - 1, r - 1) + kombinasi(n - 1, r)\n",
    "\n",
    "n = int(input(\"Masukkan bilangan pertama: \"))\n",
    "r = int(input(\"Masukkan bilangan kedua: \"))\n",
    "print(f\"Kombinasi {n} dengan {r} adalah {kombinasi(n, r)}\")"
   ]
  }
 ],
 "metadata": {
  "kernelspec": {
   "display_name": "Python 3",
   "language": "python",
   "name": "python3"
  },
  "language_info": {
   "codemirror_mode": {
    "name": "ipython",
    "version": 3
   },
   "file_extension": ".py",
   "mimetype": "text/x-python",
   "name": "python",
   "nbconvert_exporter": "python",
   "pygments_lexer": "ipython3",
   "version": "3.12.0"
  }
 },
 "nbformat": 4,
 "nbformat_minor": 2
}
